{
 "cells": [
  {
   "cell_type": "code",
   "execution_count": 20,
   "id": "3eb538f2",
   "metadata": {},
   "outputs": [
    {
     "name": "stdout",
     "output_type": "stream",
     "text": [
      "yP\n"
     ]
    }
   ],
   "source": [
    "a = \"Python\"\n",
    "print(a[1::-1])"
   ]
  },
  {
   "cell_type": "code",
   "execution_count": 25,
   "id": "031f8244",
   "metadata": {},
   "outputs": [
    {
     "name": "stdout",
     "output_type": "stream",
     "text": [
      "ohi bh\n"
     ]
    }
   ],
   "source": [
    "a = \"ionhsiB hbuhS\"\n",
    "b = a[1:13:2]\n",
    "print(b)"
   ]
  },
  {
   "cell_type": "code",
   "execution_count": 43,
   "id": "88d1e3d6",
   "metadata": {},
   "outputs": [
    {
     "name": "stdout",
     "output_type": "stream",
     "text": [
      "ShubhBishnoi\n",
      "True\n",
      "True\n",
      "ShubhBishnoiShubhBishnoiShubhBishnoiShubhBishnoiShubhBishnoi\n",
      "SHUBH\n",
      "bishnoi\n",
      "sHUBHbISHNOI\n",
      "******Shubh******\n"
     ]
    }
   ],
   "source": [
    "a = \"Shubh\"\n",
    "b = \"Bishnoi\"\n",
    "c = b[::-1]\n",
    "d = a[::-1]\n",
    "e = a+b\n",
    "print(e)\n",
    "print(\"S\" in a)\n",
    "print(\"k\" not in a)\n",
    "print(e*5)\n",
    "print(a.upper())\n",
    "print(b.lower())\n",
    "print(e.swapcase())\n",
    "print(a.center(17, \"*\"))"
   ]
  },
  {
   "cell_type": "code",
   "execution_count": 59,
   "id": "7f5b9b84",
   "metadata": {},
   "outputs": [
    {
     "name": "stdout",
     "output_type": "stream",
     "text": [
      "Barcelona Football Club is a professional football club based in Barcelona, England. The club competes in the Premier League, the top tier of English football. Founded in 1892, the club joined the Football League the following year and has played its home games at Anfield since its formation.\n"
     ]
    }
   ],
   "source": [
    "a = \"Liverpool Football Club is a professional football club based in Liverpool, England. The club competes in the Premier League, the top tier of English football. Founded in 1892, the club joined the Football League the following year and has played its home games at Anfield since its formation.\"\n",
    "print(a.replace(\"Liverpool\", \"Barcelona\"))"
   ]
  },
  {
   "cell_type": "code",
   "execution_count": 60,
   "id": "d7b6f678",
   "metadata": {},
   "outputs": [
    {
     "name": "stdout",
     "output_type": "stream",
     "text": [
      "Manchester City is an oil club!\n"
     ]
    }
   ],
   "source": [
    "a = \"PSG is an oil club!\"\n",
    "print(a.replace(\"PSG\", \"Manchester City\"))"
   ]
  },
  {
   "cell_type": "code",
   "execution_count": 7,
   "id": "494483ab",
   "metadata": {},
   "outputs": [
    {
     "name": "stdout",
     "output_type": "stream",
     "text": [
      "True\n",
      "False\n",
      "14\n",
      "11\n",
      "19\n",
      " \n",
      "u\n"
     ]
    }
   ],
   "source": [
    "a = \"Shubh Karan Bishnoi\"\n",
    "print(a.startswith(\"S\"))\n",
    "print(a.endswith(\"I\"))\n",
    "print(a.find(\"sh\"))\n",
    "print(a.find(\" B\"))\n",
    "print(len(a))\n",
    "print(min(a)) #it prints the character having the minimum value in the string, here it returns white space because here space is having the least value\n",
    "print(max(a))"
   ]
  },
  {
   "cell_type": "code",
   "execution_count": 8,
   "id": "d6cbd298",
   "metadata": {},
   "outputs": [
    {
     "name": "stdout",
     "output_type": "stream",
     "text": [
      "Python is easy Programming\n",
      "valid\n"
     ]
    }
   ],
   "source": [
    "a = input()\n",
    "if (a.startswith(\"Python\")):\n",
    "    if (a.endswith(\"Programming\")):\n",
    "        print(\"valid\")\n",
    "else:\n",
    "    print(\"invalid\")"
   ]
  },
  {
   "cell_type": "code",
   "execution_count": 14,
   "id": "1abd67cc",
   "metadata": {},
   "outputs": [
    {
     "name": "stdout",
     "output_type": "stream",
     "text": [
      "!\"#$%&'()*+,-./:;<=>?@[\\]^_`{|}~\n",
      "0123456789\n",
      "0123456789abcdefABCDEF\n",
      "01234567\n",
      "0123456789abcdefghijklmnopqrstuvwxyzABCDEFGHIJKLMNOPQRSTUVWXYZ!\"#$%&'()*+,-./:;<=>?@[\\]^_`{|}~ \t\n",
      "\r",
      "\u000b",
      "\f",
      "\n",
      "Liverpool\n"
     ]
    }
   ],
   "source": [
    "import string\n",
    "print(string.punctuation)\n",
    "print(string.digits)\n",
    "print(string.hexdigits)\n",
    "print(string.octdigits)\n",
    "print(string.printable)\n",
    "print(string.capwords(\"liverpool\"))"
   ]
  },
  {
   "cell_type": "code",
   "execution_count": 21,
   "id": "e2d6bf8a",
   "metadata": {},
   "outputs": [
    {
     "name": "stdout",
     "output_type": "stream",
     "text": [
      "String after removing all Punctuation's:\n",
      "  List  \n",
      " tuple  \n",
      " Dictionary  \n",
      " Comment  \n",
      " Multiply  \n",
      " not  \n",
      " and  \n",
      " or  \n",
      " format specifier  \n",
      " String           \n"
     ]
    }
   ],
   "source": [
    "import string\n",
    "punctuations = string.punctuation\n",
    "result = \" \"\n",
    "str = \"List - []\\n tuple - ()\\n Dictionary - {}\\n Comment - #\\n Multiply - *\\n not - !\\n and - &\\n or - |\\n format specifier - %\\n String - \" \" $ @ ; : ' / + = \"  \n",
    "for i in str:\n",
    "    if i not in punctuations:\n",
    "        result = result + i\n",
    "print(\"String after removing all Punctuation's:\\n\",result)"
   ]
  },
  {
   "cell_type": "code",
   "execution_count": 26,
   "id": "7f1807b7",
   "metadata": {},
   "outputs": [
    {
     "name": "stdout",
     "output_type": "stream",
     "text": [
      "H comes 1 times\n",
      "e comes 1 times\n",
      "l comes 2 times\n",
      "l comes 2 times\n",
      "o comes 2 times\n",
      "  comes 1 times\n",
      "P comes 1 times\n",
      "y comes 1 times\n",
      "t comes 1 times\n",
      "h comes 1 times\n",
      "o comes 2 times\n",
      "n comes 1 times\n",
      "! comes 1 times\n"
     ]
    }
   ],
   "source": [
    "a = \"Hello Python!\"\n",
    "for i in a:\n",
    "    x=0\n",
    "    for j in a:\n",
    "        if i==j:\n",
    "            x = x+1\n",
    "    print(i,\"comes\",x,\"times\")"
   ]
  },
  {
   "cell_type": "code",
   "execution_count": 27,
   "id": "5abe04cb",
   "metadata": {},
   "outputs": [
    {
     "name": "stdout",
     "output_type": "stream",
     "text": [
      "P_y_t_h_o_n_ _P_r_o_g_r_a_m_m_i_n_g_ _1\n",
      "PYTHON PROGRAMMING 1\n",
      "False\n",
      "False\n",
      "False\n",
      "False\n",
      "True\n"
     ]
    }
   ],
   "source": [
    "a = \"_\"\n",
    "b = \"Python Programming 1\"\n",
    "print(a.join(b))\n",
    "if not(b.isupper()):\n",
    "    print(b.upper()), \n",
    "#these functions return true only when the asked condition is only present in the variable, if anthing else is there, it returns false\n",
    "print(b.isalpha())\n",
    "print(b.isalnum())\n",
    "print(b.isdigit())\n",
    "print(b.isspace())\n",
    "print(b.istitle())"
   ]
  },
  {
   "cell_type": "code",
   "execution_count": null,
   "id": "91031898",
   "metadata": {},
   "outputs": [],
   "source": []
  }
 ],
 "metadata": {
  "kernelspec": {
   "display_name": "Python 3 (ipykernel)",
   "language": "python",
   "name": "python3"
  },
  "language_info": {
   "codemirror_mode": {
    "name": "ipython",
    "version": 3
   },
   "file_extension": ".py",
   "mimetype": "text/x-python",
   "name": "python",
   "nbconvert_exporter": "python",
   "pygments_lexer": "ipython3",
   "version": "3.9.12"
  }
 },
 "nbformat": 4,
 "nbformat_minor": 5
}
