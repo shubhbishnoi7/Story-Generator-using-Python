{
 "cells": [
  {
   "cell_type": "code",
   "execution_count": 14,
   "id": "8186a187",
   "metadata": {},
   "outputs": [
    {
     "name": "stdout",
     "output_type": "stream",
     "text": [
      "c\n",
      "['a', 'b', 'c', 'd', 1]\n",
      "False\n",
      "['a', 'b', 'c', 'd', 1, 2, 3, 'A', 'B', 'C', 10, 11, 12]\n",
      "a\n",
      "b\n",
      "c\n",
      "d\n",
      "1\n",
      "2\n",
      "3\n"
     ]
    }
   ],
   "source": [
    "L1 = ['a','b','c','d',1,2,3]\n",
    "L2 = ['A','B','C',10,11,12]\n",
    "print(L1[2])\n",
    "print(L1[:5])\n",
    "print(\"A\" in L1)\n",
    "print(L1+L2)\n",
    "for i in range(0,7):\n",
    "    print(L1[i])"
   ]
  },
  {
   "cell_type": "code",
   "execution_count": 17,
   "id": "76f4d3e9",
   "metadata": {},
   "outputs": [
    {
     "name": "stdout",
     "output_type": "stream",
     "text": [
      "[5, 6, 7, 8, 9]\n",
      "[1, 2, 3, 4, 5, 6, 7, 8, 9, 10, 5, 6, 7, 8, 9]\n",
      "['abc', 2, 3, 4, 5, 6, 7, 8, 9, 10]\n",
      "False\n",
      "True\n",
      "['abc', 2, 3, 4, 5, 6, 7, 8, 9, 10, [11, 12]]\n",
      "['abc', 2, 3, 4, 5, 6, 7, 8, 9, 10, [11, 12], 13, 14, 15]\n",
      "['b', 'e', 2]\n"
     ]
    }
   ],
   "source": [
    "a = [] #empty list\n",
    "b = {} #empty dictionary\n",
    "c = set() #empty set\n",
    "d = () #empty tuple\n",
    "l1 = [1,2,3,4,5,6,7,8,9,10]\n",
    "l2 = l1[4:9]\n",
    "print(l2)\n",
    "print(l1+l2)\n",
    "l1[0] = \"abc\" #updating value in the list\n",
    "print(l1)\n",
    "print(l1==l2)\n",
    "print(l1!=l2)\n",
    "l1.append([11,12]) #adds list inside a list\n",
    "print(l1)\n",
    "l3 = [13,14,15]\n",
    "l1.extend(l3) #adds individual elements inside a list\n",
    "print(l1)\n",
    "l4 = [\"a\",\"b\",\"c\",\"d\",\"e\",\"f\",1,2,3,4,5,6,7,8]\n",
    "l5 = l4[1:10:3]\n",
    "print(l5)"
   ]
  },
  {
   "cell_type": "code",
   "execution_count": 1,
   "id": "0c1cfc90",
   "metadata": {},
   "outputs": [
    {
     "name": "stdout",
     "output_type": "stream",
     "text": [
      "[5, 10, 11, 12, 13, 14, 15, 20]\n"
     ]
    }
   ],
   "source": [
    "a = [5,10,15,20]\n",
    "a[2:2] = [11,12,13,14]\n",
    "print(a)"
   ]
  },
  {
   "cell_type": "code",
   "execution_count": 8,
   "id": "a8ac0a40",
   "metadata": {},
   "outputs": [
    {
     "name": "stdout",
     "output_type": "stream",
     "text": [
      "[4, 5]\n"
     ]
    }
   ],
   "source": [
    "a = [1,2,3,4,5]\n",
    "a[0:3] = [ ]\n",
    "print(a)"
   ]
  },
  {
   "cell_type": "code",
   "execution_count": 13,
   "id": "e924e19e",
   "metadata": {},
   "outputs": [
    {
     "name": "stdout",
     "output_type": "stream",
     "text": [
      "Enter the number of integers in the list: 5\n",
      "1\n",
      "3\n",
      "5\n",
      "7\n",
      "9\n",
      "9 is larger than 1\n"
     ]
    }
   ],
   "source": [
    "a = []\n",
    "n = int(input(\"Enter the number of integers in the list: \"))\n",
    "for i in range(n):\n",
    "    y = int(input())\n",
    "    x = a.append(y)\n",
    "if a[0]>a[-1]:\n",
    "    print(a[0],\"is larger than\",a[-1])\n",
    "else:\n",
    "    print(a[-1],\"is larger than\",a[0])"
   ]
  },
  {
   "cell_type": "code",
   "execution_count": 3,
   "id": "09ca96af",
   "metadata": {},
   "outputs": [
    {
     "name": "stdout",
     "output_type": "stream",
     "text": [
      "7\n",
      "27\n",
      "7\n",
      "[7, 10, 11, 17, 19, 21, 27]\n",
      "112\n",
      "[7, 10, 11, 17, 19, 21, 27]\n",
      "[(0, 7), (1, 10), (2, 11), (3, 17), (4, 19), (5, 21), (6, 27)]\n",
      "20\n"
     ]
    }
   ],
   "source": [
    "a = [7,10,11,17,19,21,27]\n",
    "print(len(a))\n",
    "print(max(a))\n",
    "print(min(a))\n",
    "print(sorted(a))\n",
    "print(sum(a))\n",
    "print(list(a))\n",
    "print(list(enumerate(a)))\n",
    "print(max(a)-min(a))"
   ]
  },
  {
   "cell_type": "code",
   "execution_count": 12,
   "id": "3f7f6adc",
   "metadata": {},
   "outputs": [
    {
     "name": "stdout",
     "output_type": "stream",
     "text": [
      "['Leo Messi', 'Cristiano Ronaldo', 'Neymar Jr.', 'Kevin De Bruyne']\n",
      "['Leo Messi', 'Cristiano Ronaldo', 'Neymar Jr.']\n",
      "['Leo Messi', 'Cristiano Ronaldo']\n"
     ]
    }
   ],
   "source": [
    "# insert function = insert(index, item)\n",
    "goats = [\"Leo Messi\",\"Cristiano Ronaldo\",\"Kevin De Bruyne\"]\n",
    "goats.insert(2,\"Neymar Jr.\")\n",
    "print(goats)\n",
    "goats.remove(\"Kevin De Bruyne\") # remove(item) : removes the elements it finds first in the list, if the item is repeated, then only its first occurence is removed.\n",
    "print(goats)\n",
    "goats.pop(2) # pop(index), if index is not mentioned, it removes the last value.\n",
    "print(goats)"
   ]
  },
  {
   "cell_type": "code",
   "execution_count": 7,
   "id": "ed25bf6e",
   "metadata": {},
   "outputs": [
    {
     "name": "stdout",
     "output_type": "stream",
     "text": [
      "[3, 4, 1, 'c', 'b', 'a']\n",
      "[30, 25, 20, 15, 5]\n",
      "[5, 15, 20, 25, 30]\n"
     ]
    }
   ],
   "source": [
    "# two methods to reverse the order of elements\n",
    "a = [\"a\",\"b\",\"c\",1,4,3]\n",
    "a.reverse() # it will directly reverse\n",
    "print(a)\n",
    "b = [5,30,15,20,25]\n",
    "b.sort(key = None, reverse = True) # it will reverse the ascending order to descending order\n",
    "print(b)\n",
    "b.sort(key = None, reverse = False) # sorting in ascending order\n",
    "print(b)"
   ]
  },
  {
   "cell_type": "code",
   "execution_count": 1,
   "id": "6aa3821e",
   "metadata": {},
   "outputs": [
    {
     "name": "stdout",
     "output_type": "stream",
     "text": [
      "data: 1\n"
     ]
    },
    {
     "ename": "IndexError",
     "evalue": "string index out of range",
     "output_type": "error",
     "traceback": [
      "\u001b[1;31m---------------------------------------------------------------------------\u001b[0m",
      "\u001b[1;31mIndexError\u001b[0m                                Traceback (most recent call last)",
      "Input \u001b[1;32mIn [1]\u001b[0m, in \u001b[0;36m<cell line: 3>\u001b[1;34m()\u001b[0m\n\u001b[0;32m      2\u001b[0m list1 \u001b[38;5;241m=\u001b[39m data\u001b[38;5;241m.\u001b[39msplit()\n\u001b[0;32m      3\u001b[0m \u001b[38;5;28;01mfor\u001b[39;00m i \u001b[38;5;129;01min\u001b[39;00m \u001b[38;5;28mrange\u001b[39m(\u001b[38;5;241m0\u001b[39m,\u001b[38;5;28mlen\u001b[39m(data)):\n\u001b[1;32m----> 4\u001b[0m     \u001b[38;5;28;01mif\u001b[39;00m data[i] \u001b[38;5;241m==\u001b[39m \u001b[43mdata\u001b[49m\u001b[43m[\u001b[49m\u001b[43mi\u001b[49m\u001b[38;5;241;43m+\u001b[39;49m\u001b[38;5;241;43m1\u001b[39;49m\u001b[43m]\u001b[49m:\n\u001b[0;32m      5\u001b[0m         \u001b[38;5;28;01mbreak\u001b[39;00m\n\u001b[0;32m      6\u001b[0m         \u001b[38;5;28mprint\u001b[39m(i)\n",
      "\u001b[1;31mIndexError\u001b[0m: string index out of range"
     ]
    }
   ],
   "source": [
    "data = input(\"data: \")\n",
    "list1 = data.split()\n",
    "for i in range(0,len(data)):\n",
    "    if data[i] == data[i+1]:\n",
    "        break\n",
    "        print(i)\n",
    "    else:\n",
    "        print(\"\")\n",
    "    "
   ]
  },
  {
   "cell_type": "code",
   "execution_count": 16,
   "id": "301d330b",
   "metadata": {},
   "outputs": [
    {
     "name": "stdout",
     "output_type": "stream",
     "text": [
      "Please enter a sentence: Kante Manideep\n",
      "K : 1\n",
      "a : 2\n",
      "n : 2\n",
      "t : 1\n",
      "e : 3\n",
      "  : 1\n",
      "M : 1\n",
      "a : 2\n",
      "n : 2\n",
      "i : 1\n",
      "d : 1\n",
      "e : 3\n",
      "e : 3\n",
      "p : 1\n"
     ]
    }
   ],
   "source": [
    "a = input(\"Please enter a sentence: \")\n",
    "b = list(a)\n",
    "for i in range(0,len(b)):\n",
    "    n = b.count(b[i])\n",
    "    print(b[i],\":\",n)"
   ]
  },
  {
   "cell_type": "code",
   "execution_count": null,
   "id": "4146bbf8",
   "metadata": {},
   "outputs": [],
   "source": []
  }
 ],
 "metadata": {
  "kernelspec": {
   "display_name": "Python 3 (ipykernel)",
   "language": "python",
   "name": "python3"
  },
  "language_info": {
   "codemirror_mode": {
    "name": "ipython",
    "version": 3
   },
   "file_extension": ".py",
   "mimetype": "text/x-python",
   "name": "python",
   "nbconvert_exporter": "python",
   "pygments_lexer": "ipython3",
   "version": "3.9.12"
  }
 },
 "nbformat": 4,
 "nbformat_minor": 5
}
