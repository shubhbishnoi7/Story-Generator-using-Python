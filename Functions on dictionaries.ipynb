{
 "cells": [
  {
   "cell_type": "code",
   "execution_count": 2,
   "id": "54f1097e",
   "metadata": {},
   "outputs": [
    {
     "name": "stdout",
     "output_type": "stream",
     "text": [
      "{'id': 101, 'Name': 'Shubh', 'Dept': 'Manager', 'Salary': '$50000'}\n",
      "Shubh\n",
      "Manager\n",
      "Aniket Babu \n",
      " Chinna Babu \n",
      " nil\n",
      "{}\n",
      "{'id': 102, 'Name': 'Aniket Babu', 'Dept': 'Chinna Babu', 'Salary': 'nil'}\n"
     ]
    }
   ],
   "source": [
    "Emp1 = {\"id\": 101, \"Name\": \"Shubh\", \"Dept\": \"Manager\", \"Salary\": \"$50000\"}\n",
    "Emp2 = dict([(\"id\", 102),(\"Name\", \"Aniket Babu\"),(\"Dept\", \"Chinna Babu\"),(\"Salary\", \"nil\")])\n",
    "print(Emp1)\n",
    "print(Emp1[\"Name\"])\n",
    "print(Emp1[\"Dept\"])\n",
    "print(Emp2[\"Name\"],\"\\n\",Emp2[\"Dept\"],\"\\n\",Emp2[\"Salary\"])\n",
    "Emp1.clear()\n",
    "print(Emp1)\n",
    "a = Emp2.copy()\n",
    "print(a)\n"
   ]
  },
  {
   "cell_type": "code",
   "execution_count": 4,
   "id": "2dbe163e",
   "metadata": {},
   "outputs": [
    {
     "name": "stdout",
     "output_type": "stream",
     "text": [
      "{'two': 10, 'one': 10, 'three': 10}\n"
     ]
    }
   ],
   "source": [
    "Seq = {'one', 'two', 'three'}\n",
    "dict = dict.fromkeys(Seq,10)\n",
    "print(str(dict))"
   ]
  },
  {
   "cell_type": "code",
   "execution_count": 19,
   "id": "23f2af8e",
   "metadata": {},
   "outputs": [
    {
     "name": "stdout",
     "output_type": "stream",
     "text": [
      "Value : 2\n",
      "Value: None\n"
     ]
    }
   ],
   "source": [
    "dict1 = {'cyan':1, 'violet':2, 'green':3}\n",
    "print(\"Value : %s\" % dict1.get('violet')) # %s is for string... jo bhi % ke baad hoga vo 's' ki jagah aa jayega\n",
    "print(\"Value: %s\"  % dict1.get('red'))"
   ]
  },
  {
   "cell_type": "code",
   "execution_count": 10,
   "id": "8eb5d2db",
   "metadata": {},
   "outputs": [
    {
     "name": "stdout",
     "output_type": "stream",
     "text": [
      "dict_items([('cyan', 1), ('violet', 2), ('green', 3)])\n"
     ]
    }
   ],
   "source": [
    "dict1 = {'cyan':1, 'violet':2, 'green':3}\n",
    "print(dict1.items())"
   ]
  },
  {
   "cell_type": "code",
   "execution_count": 11,
   "id": "70ef458d",
   "metadata": {},
   "outputs": [
    {
     "name": "stdout",
     "output_type": "stream",
     "text": [
      "dict_keys(['cyan', 'violet', 'green'])\n"
     ]
    }
   ],
   "source": [
    "dict = {'cyan':1, 'violet':2, 'green':3}\n",
    "print(dict.keys())"
   ]
  },
  {
   "cell_type": "code",
   "execution_count": 14,
   "id": "207d4de6",
   "metadata": {},
   "outputs": [
    {
     "name": "stdout",
     "output_type": "stream",
     "text": [
      "{'cyan': 1, 'violet': 2, 'green': 3, 'red': 10}\n"
     ]
    }
   ],
   "source": [
    "dict1 = {'cyan':1, 'violet':2, 'green':3}\n",
    "dict1.setdefault('violet', 10)\n",
    "dict1.setdefault('red', 10)\n",
    "print(dict1)"
   ]
  },
  {
   "cell_type": "code",
   "execution_count": 15,
   "id": "16dd5fcd",
   "metadata": {},
   "outputs": [
    {
     "name": "stdout",
     "output_type": "stream",
     "text": [
      "{'cyan': 1, 'violet': 2, 'green': 3, 'red': 4, 'white': 5}\n"
     ]
    }
   ],
   "source": [
    "dict1 = {'cyan':1, 'violet':2, 'green':3}\n",
    "dict2 = {'red':4, 'white':5}\n",
    "dict1.update(dict2)\n",
    "print(dict1)"
   ]
  },
  {
   "cell_type": "code",
   "execution_count": 17,
   "id": "7b23b228",
   "metadata": {},
   "outputs": [
    {
     "name": "stdout",
     "output_type": "stream",
     "text": [
      "dict_values([1, 2, 3, 4])\n"
     ]
    }
   ],
   "source": [
    "dict1 = {'cyan': 1, 'violet': 2, 'green': 3, 'red': 4}\n",
    "print(dict1.values())"
   ]
  },
  {
   "cell_type": "code",
   "execution_count": 32,
   "id": "a9d57758",
   "metadata": {},
   "outputs": [
    {
     "name": "stdout",
     "output_type": "stream",
     "text": [
      "dict_items([('1', 'Apple'), ('2', 'Mango'), ('3', 'Orange')])\n",
      "dict_keys(['1', '2', '3'])\n",
      "dict_values(['Apple', 'Mango', 'Orange'])\n",
      "<zip object at 0x00000261061790C0>\n",
      "[('1', 'Apple'), ('2', 'Mango'), ('3', 'Orange')]\n",
      "[('Leo Messi', 'Argentina'), ('Cristiano Ronaldo', 'Portugal'), ('Neymar Jr.', 'Brazil')]\n"
     ]
    }
   ],
   "source": [
    "data1 = {\"1\":\"Apple\",\"2\":\"Mango\",\"3\":\"Orange\"}\n",
    "data1_view = data1.items()\n",
    "print(data1_view)\n",
    "data1_keys = data1.keys()\n",
    "print(data1_keys)\n",
    "data1_values = data1.values()\n",
    "print(data1_values)\n",
    "print(zip(data1_keys, data1_values))\n",
    "# we will make a list for keys and values\n",
    "dkeys = list(data1_keys)\n",
    "dvals = list(data1_values)\n",
    "zipped_list = zip(dkeys, dvals)\n",
    "print(list(zipped_list))\n",
    "list1 = [\"Leo Messi\", \"Cristiano Ronaldo\", \"Neymar Jr.\"]\n",
    "list2 = [\"Argentina\", \"Portugal\", \"Brazil\"]\n",
    "dict1 = zip(list1, list2)\n",
    "print(list(dict1))"
   ]
  },
  {
   "cell_type": "code",
   "execution_count": 6,
   "id": "575fa752",
   "metadata": {},
   "outputs": [
    {
     "name": "stdout",
     "output_type": "stream",
     "text": [
      "Enter no. of rows: 3\n",
      "Enter no. of columns: 3\n",
      "Enter elements: \n",
      "1\n",
      "2\n",
      "3\n",
      "4\n",
      "5\n",
      "6\n",
      "7\n",
      "8\n",
      "9\n",
      "Matrix is:\n",
      "1 2 3 \n",
      "4 5 6 \n",
      "7 8 9 \n"
     ]
    }
   ],
   "source": [
    "# code for matrix\n",
    "m = int(input(\"Enter no. of rows: \"))\n",
    "n = int(input(\"Enter no. of columns: \"))\n",
    "print(\"Enter elements: \")\n",
    "mat = [[int(input()) for x in range(n)]for y in range(m)]\n",
    "print(\"Matrix is:\")\n",
    "for i in range(m):\n",
    "    for j in range(n):\n",
    "        print(mat[i][j],end = \" \")\n",
    "    print()"
   ]
  },
  {
   "cell_type": "code",
   "execution_count": 3,
   "id": "6250db66",
   "metadata": {},
   "outputs": [
    {
     "name": "stdout",
     "output_type": "stream",
     "text": [
      "Enter row size: 3\n",
      "Enter col size: 3\n",
      "Enter elements:\n",
      "0\n",
      "1\n",
      "2\n",
      "2\n",
      "0\n",
      "1\n",
      "2\n",
      "1\n",
      "0\n",
      "Sparse matrix is:\n",
      "0 1 2 \n",
      "2 0 1 \n",
      "2 1 0 \n",
      "Sparse representation:\n",
      "[0, 0, 1, 1, 2, 2]\n",
      "[1, 2, 0, 2, 0, 1]\n",
      "[1, 2, 2, 1, 2, 1]\n"
     ]
    }
   ],
   "source": [
    "# code for sparse matrix\n",
    "def sparseMatrix(sparseMatrix, m, n):\n",
    "    size = 0\n",
    "    for i in range(m):\n",
    "        for j in range(n):\n",
    "            if (sparseMatrix[i][j] != 0):\n",
    "                size += 1\n",
    "    rows, cols = (3, size)\n",
    "    compressMatrix = [[0 for i in range(cols)] for j in range(rows)]\n",
    "    k = 0\n",
    "    for i in range(m):\n",
    "        for j in range(n):\n",
    "            if (sparseMatrix[i][j] != 0):\n",
    "                compressMatrix[0][k] = i\n",
    "                compressMatrix[1][k] = j\n",
    "                compressMatrix[2][k] = sparseMatrix[i][j]\n",
    "                k += 1\n",
    "\n",
    "    print(\"Sparse representation:\")\n",
    "    for i in compressMatrix:\n",
    "        print(i)\n",
    "\n",
    "m = int(input(\"Enter row size: \"))\n",
    "n = int(input(\"Enter col size: \"))\n",
    "print(\"Enter elements:\")\n",
    "mat = [[int(input()) for x in range (n)] for y in range(m)]\n",
    "print(\"Sparse matrix is:\")\n",
    "for i in range(m):\n",
    "    for j in range(n):\n",
    "        print(mat[i][j],end = \" \")\n",
    "    print()\n",
    "sparseMatrix(mat, m, n)"
   ]
  },
  {
   "cell_type": "code",
   "execution_count": 7,
   "id": "94b81353",
   "metadata": {},
   "outputs": [
    {
     "name": "stdout",
     "output_type": "stream",
     "text": [
      "matrix:\n",
      "[[1, 2, 3, 4], [5, 6, 7, 8], [9, 10, 11, 12]]\n",
      "transposition using nested while:\n",
      "[[1, 5, 9], [2, 6, 10], [3, 7, 11], [4, 8, 12]]\n",
      "transposition using nested for:\n",
      "[[1, 5, 9], [2, 6, 10], [3, 7, 11], [4, 8, 12]]\n",
      "transposition single list comprehension:\n",
      "[[1, 5, 9], [2, 6, 10], [3, 7, 11], [4, 8, 12]]\n",
      "transposition double list comprehension:\n",
      "[[1, 5, 9], [2, 6, 10], [3, 7, 11], [4, 8, 12]]\n"
     ]
    }
   ],
   "source": [
    "#Program to transpose a matrix in different ways\n",
    "matrix = [[1, 2, 3, 4], [5, 6, 7, 8], [9, 10, 11, 12]]\n",
    "transposed = []\n",
    "print(\"matrix:\")\n",
    "print(matrix)\n",
    "print(\"transposition using nested while:\")\n",
    "# Matrix Transposition using Nested while\n",
    "i = 0\n",
    "while(i < len(matrix[0])):\n",
    "    j = 0\n",
    "    lx = []\n",
    "    while(j < len(matrix)):\n",
    "        lx.append(matrix[j][i])\n",
    "        j = j + 1\n",
    "    transposed.append(lx)\n",
    "    i = i + 1\n",
    "print(transposed)"
   ]
  },
  {
   "cell_type": "code",
   "execution_count": 9,
   "id": "7faabbb0",
   "metadata": {},
   "outputs": [
    {
     "name": "stdout",
     "output_type": "stream",
     "text": [
      "transposition using nested for:\n",
      "[[1, 5, 9], [2, 6, 10], [3, 7, 11], [4, 8, 12]]\n"
     ]
    }
   ],
   "source": [
    "print(\"transposition using nested for:\")\n",
    "# Matrix Transposition using Nested For\n",
    "transposed = []         # Transposed Matrix\n",
    "for i in range(len(matrix[0])):\n",
    "    transposed_row = []\n",
    "    for row in matrix:  # Build each row\n",
    "        transposed_row.append(row[i])\n",
    "    transposed.append(transposed_row) # Append the row\n",
    "print(transposed)"
   ]
  },
  {
   "cell_type": "code",
   "execution_count": 10,
   "id": "da66fb00",
   "metadata": {},
   "outputs": [
    {
     "name": "stdout",
     "output_type": "stream",
     "text": [
      "transposition single list comprehension:\n",
      "[[1, 5, 9], [2, 6, 10], [3, 7, 11], [4, 8, 12]]\n"
     ]
    }
   ],
   "source": [
    "print(\"transposition single list comprehension:\")\n",
    "# Matrix Transposition using single list comprehension\n",
    "transposed = []\n",
    "#list comprehension used to build the row\n",
    "for i in range(len(matrix[0])):\n",
    "    transposed.append([row[i]for row in matrix])\n",
    "print(transposed)"
   ]
  },
  {
   "cell_type": "code",
   "execution_count": 11,
   "id": "7640c992",
   "metadata": {},
   "outputs": [
    {
     "name": "stdout",
     "output_type": "stream",
     "text": [
      "transposition double list comprehension:\n",
      "[[1, 5, 9], [2, 6, 10], [3, 7, 11], [4, 8, 12]]\n"
     ]
    }
   ],
   "source": [
    "print(\"transposition double list comprehension:\")\n",
    "# Matrix Transposition using double list comprehension\n",
    "#list comprehension used to build the row and column\n",
    "transposed = []\n",
    "transposed = [[row[i]for row in matrix]for i in range(len(matrix[0]))]\n",
    "print(transposed)"
   ]
  },
  {
   "cell_type": "code",
   "execution_count": null,
   "id": "f263423b",
   "metadata": {},
   "outputs": [],
   "source": []
  }
 ],
 "metadata": {
  "kernelspec": {
   "display_name": "Python 3 (ipykernel)",
   "language": "python",
   "name": "python3"
  },
  "language_info": {
   "codemirror_mode": {
    "name": "ipython",
    "version": 3
   },
   "file_extension": ".py",
   "mimetype": "text/x-python",
   "name": "python",
   "nbconvert_exporter": "python",
   "pygments_lexer": "ipython3",
   "version": "3.9.12"
  }
 },
 "nbformat": 4,
 "nbformat_minor": 5
}
